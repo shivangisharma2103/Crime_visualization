{
  "nbformat": 4,
  "nbformat_minor": 0,
  "metadata": {
    "colab": {
      "name": "Neurons_TYL.ipynb",
      "provenance": [],
      "collapsed_sections": [],
      "include_colab_link": true
    },
    "kernelspec": {
      "name": "python3",
      "display_name": "Python 3"
    },
    "language_info": {
      "name": "python"
    }
  },
  "cells": [
    {
      "cell_type": "markdown",
      "metadata": {
        "id": "view-in-github",
        "colab_type": "text"
      },
      "source": [
        "<a href=\"https://colab.research.google.com/github/shivangisharma2103/Crime_visualization/blob/main/Neurons_TYL.ipynb\" target=\"_parent\"><img src=\"https://colab.research.google.com/assets/colab-badge.svg\" alt=\"Open In Colab\"/></a>"
      ]
    },
    {
      "cell_type": "code",
      "metadata": {
        "id": "wnNeNN_krvuk"
      },
      "source": [
        "#importing required packages and dependencies for the project\n",
        "import numpy as np\n",
        "import pandas as pd\n",
        "import tensorflow as tf\n",
        "from sklearn.model_selection import train_test_split"
      ],
      "execution_count": null,
      "outputs": []
    },
    {
      "cell_type": "code",
      "metadata": {
        "colab": {
          "base_uri": "https://localhost:8080/"
        },
        "id": "uoXua1UNu84Y",
        "outputId": "4edd8845-4cb4-46c2-c01d-b8367ed672bc"
      },
      "source": [
        "#unzipping both the test and train files for processing\n",
        "!unzip '/content/train.csv.zip' -d '/content/train_data'\n",
        "!unzip '/content/test.csv.zip' -d '/content/test_data'"
      ],
      "execution_count": null,
      "outputs": [
        {
          "output_type": "stream",
          "text": [
            "Archive:  /content/train.csv.zip\n",
            "  inflating: /content/train_data/train.csv  \n",
            "Archive:  /content/test.csv.zip\n",
            "  inflating: /content/test_data/test.csv  \n"
          ],
          "name": "stdout"
        }
      ]
    },
    {
      "cell_type": "code",
      "metadata": {
        "id": "Gsv1LHtKw89m"
      },
      "source": [
        "#reading the files as dataframe using pandas.\n",
        "train_data = pd.read_csv('/content/train_data/train.csv')\n",
        "pred_data = pd.read_csv('/content/test_data/test.csv')"
      ],
      "execution_count": null,
      "outputs": []
    },
    {
      "cell_type": "code",
      "metadata": {
        "colab": {
          "base_uri": "https://localhost:8080/"
        },
        "id": "mwgXaD3Ap2PQ",
        "outputId": "6c1bb163-f54f-4402-a75b-e4fd559844f4"
      },
      "source": [
        "#The clean_data function is used to clean both the train and test data.\n",
        "#The function takes in a dataframe and decides it's type based on it's shape.\n",
        "#if the shape of the the dataframe[1] == 9 the it is a train data frame and processes according to it\n",
        "#for test dataframe the processing is done accordingly.\n",
        "def clean_data(data,shape):\n",
        "  data['year'] = data['Dates'].apply(lambda x : x.split()[0].split('-')[0])\n",
        "  data['Month'] = data['Dates'].apply(lambda x : x.split()[0].split('-')[1])\n",
        "  data['Day'] = data['Dates'].apply(lambda x : x.split()[0].split('-')[2])\n",
        "  time = data['Dates'].apply(lambda x : x.split()[1].split(':')[:2])\n",
        "  data['time'] = [int(x[0])*60 + int(x[1]) for x in time]\n",
        "  data.drop('Dates',axis = 1, inplace = True)\n",
        "  data=pd.concat([data,pd.get_dummies(data['DayOfWeek'])],axis=1)\n",
        "  data.drop('DayOfWeek',axis=1,inplace=True)\n",
        "  data = pd.concat([data,pd.get_dummies(data['PdDistrict'])],axis = 1)\n",
        "  data.drop('PdDistrict',axis = 1, inplace = True)\n",
        "  if(shape==9):\n",
        "    data.drop(['Descript','Resolution','Address'],axis = 1, inplace = True)\n",
        "    X = data.drop('Category',axis = 1)\n",
        "    y = pd.get_dummies(data['Category'])\n",
        "    X = X.astype(float)\n",
        "    return X,y\n",
        "  else:\n",
        "    data=data.drop(['Id'],axis=1)\n",
        "    data.drop('Address',axis = 1, inplace = True)\n",
        "    X=data.astype(float)\n",
        "    return X\n",
        "\n",
        "\n",
        "X,y=clean_data(train_data,train_data.shape[1]) #get the X and y values for the train data \n",
        "X_pred = clean_data(pred_data, pred_data.shape[1]) #get the X value for test data\n",
        "\n",
        "#we split the train data into training and validation using the sklearn train-test split module.\n",
        "X_train,X_test,y_train,y_test=train_test_split(X,y,test_size=0.1,random_state=42)\n",
        "print(X_train.shape,y_train.shape)\n",
        "print(X_test.shape,y_test.shape)"
      ],
      "execution_count": null,
      "outputs": [
        {
          "output_type": "stream",
          "text": [
            "(790244, 23) (790244, 39)\n",
            "(87805, 23) (87805, 39)\n"
          ],
          "name": "stdout"
        }
      ]
    },
    {
      "cell_type": "code",
      "metadata": {
        "id": "cspriYB-lbi5",
        "colab": {
          "base_uri": "https://localhost:8080/"
        },
        "outputId": "af04c3a9-7ccc-4208-96da-80dd69b30b7a"
      },
      "source": [
        "#this function creates a tensorflow model\n",
        "#the model consists of six dense layers with activation function as relu for each layers\n",
        "#the last layer is a dense layer with 39 output neurons which has output as softmax, used for multiclass classification \n",
        "#the model uses categorical crossentropy as it's loss function and adam as an optimizer. The model evaluates itself on the accuracy metrics. \n",
        "#The categorical crossentropy when combined with accuracy metric are log_loss for the model\n",
        "def my_model():\n",
        "\n",
        "  model = tf.keras.models.Sequential([\n",
        "                                      tf.keras.layers.Dense(100, input_shape=(X.shape[1],)),\n",
        "                                      tf.keras.layers.Dense(80, activation='relu'),\n",
        "                                      tf.keras.layers.Dense(64, activation='relu'),\n",
        "                                      tf.keras.layers.Dense(64, activation='relu'),\n",
        "                                      tf.keras.layers.Dense(64,activation='relu'),\n",
        "                                      tf.keras.layers.Dense(64, activation='relu'),\n",
        "                                      tf.keras.layers.Dense(39, activation='softmax')\n",
        "  ])\n",
        "  model.summary()\n",
        "\n",
        "  model.compile(loss='categorical_crossentropy', optimizer='adam', metrics=['accuracy'])\n",
        "  return model\n",
        "\n",
        "model = my_model()\n",
        "\n",
        "model.fit(X_train, y_train, batch_size=64,epochs=10,verbose=2,validation_data=(X_test,y_test))"
      ],
      "execution_count": null,
      "outputs": [
        {
          "output_type": "stream",
          "text": [
            "Model: \"sequential_7\"\n",
            "_________________________________________________________________\n",
            "Layer (type)                 Output Shape              Param #   \n",
            "=================================================================\n",
            "dense_44 (Dense)             (None, 100)               2400      \n",
            "_________________________________________________________________\n",
            "dense_45 (Dense)             (None, 80)                8080      \n",
            "_________________________________________________________________\n",
            "dense_46 (Dense)             (None, 64)                5184      \n",
            "_________________________________________________________________\n",
            "dense_47 (Dense)             (None, 64)                4160      \n",
            "_________________________________________________________________\n",
            "dense_48 (Dense)             (None, 64)                4160      \n",
            "_________________________________________________________________\n",
            "dense_49 (Dense)             (None, 64)                4160      \n",
            "_________________________________________________________________\n",
            "dense_50 (Dense)             (None, 39)                2535      \n",
            "=================================================================\n",
            "Total params: 30,679\n",
            "Trainable params: 30,679\n",
            "Non-trainable params: 0\n",
            "_________________________________________________________________\n",
            "Epoch 1/10\n",
            "12348/12348 - 24s - loss: 2.7167 - accuracy: 0.1976 - val_loss: 2.6606 - val_accuracy: 0.1991\n",
            "Epoch 2/10\n",
            "12348/12348 - 23s - loss: 2.6546 - accuracy: 0.2004 - val_loss: 2.6499 - val_accuracy: 0.2023\n",
            "Epoch 3/10\n",
            "12348/12348 - 23s - loss: 2.6398 - accuracy: 0.2069 - val_loss: 2.6311 - val_accuracy: 0.2111\n",
            "Epoch 4/10\n",
            "12348/12348 - 23s - loss: 2.6291 - accuracy: 0.2094 - val_loss: 2.6313 - val_accuracy: 0.2076\n",
            "Epoch 5/10\n",
            "12348/12348 - 23s - loss: 2.6286 - accuracy: 0.2061 - val_loss: 2.6502 - val_accuracy: 0.2008\n",
            "Epoch 6/10\n",
            "12348/12348 - 23s - loss: 2.6323 - accuracy: 0.2061 - val_loss: 2.6152 - val_accuracy: 0.2106\n",
            "Epoch 7/10\n",
            "12348/12348 - 23s - loss: 2.6190 - accuracy: 0.2105 - val_loss: 2.6331 - val_accuracy: 0.2084\n",
            "Epoch 8/10\n",
            "12348/12348 - 23s - loss: 2.6173 - accuracy: 0.2099 - val_loss: 2.6375 - val_accuracy: 0.2077\n",
            "Epoch 9/10\n",
            "12348/12348 - 23s - loss: 2.6203 - accuracy: 0.2086 - val_loss: 2.6055 - val_accuracy: 0.2093\n",
            "Epoch 10/10\n",
            "12348/12348 - 23s - loss: 2.6151 - accuracy: 0.2098 - val_loss: 2.6015 - val_accuracy: 0.2159\n"
          ],
          "name": "stdout"
        },
        {
          "output_type": "execute_result",
          "data": {
            "text/plain": [
              "<tensorflow.python.keras.callbacks.History at 0x7f5247e12450>"
            ]
          },
          "metadata": {
            "tags": []
          },
          "execution_count": 36
        }
      ]
    },
    {
      "cell_type": "code",
      "metadata": {
        "id": "VWQ1e4Iuvpf7"
      },
      "source": [
        "pred=model.predict(X_pred) #predicting with the model\n",
        "pred_final=[np.argmax(i) for i in pred]\n",
        "m_reshape = np.max(pred, axis=1).reshape(-1, 1)\n",
        "pred_final = np.array((pred == m_reshape), dtype='int32')"
      ],
      "execution_count": null,
      "outputs": []
    },
    {
      "cell_type": "code",
      "metadata": {
        "colab": {
          "base_uri": "https://localhost:8080/"
        },
        "id": "SNXwz7u6wcVs",
        "outputId": "102ff552-f335-4c7d-f12a-b73147802f48"
      },
      "source": [
        "#A list of all categories of crimes present in the dataset.\n",
        "sub_cols=list(sample_submission.columns)\n",
        "sub_cols.remove('Id')\n",
        "submission = pd.DataFrame({'Id':pred_data['Id']})\n",
        "for i , entry in enumerate(s_sub_col):\n",
        "    submission[entry] = pred_final[:,i]\n",
        "\n",
        "submission.to_csv('/content/submission.csv', index=False)"
      ],
      "execution_count": null,
      "outputs": [
        {
          "output_type": "execute_result",
          "data": {
            "text/plain": [
              "40"
            ]
          },
          "metadata": {
            "tags": []
          },
          "execution_count": 23
        }
      ]
    }
  ]
}